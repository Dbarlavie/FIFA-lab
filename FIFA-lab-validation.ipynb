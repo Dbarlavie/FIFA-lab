{
 "cells": [
  {
   "cell_type": "code",
   "execution_count": 42,
   "metadata": {
    "id": "Ar-otnIwc6Zz"
   },
   "outputs": [],
   "source": [
    "import pandas as pd\n",
    "import numpy as np\n",
    "import matplotlib.pyplot as plt\n",
    "import seaborn as sns\n",
    "import math\n",
    "from sklearn import linear_model\n",
    "from sklearn.metrics import r2_score\n",
    "from sklearn.metrics import mean_squared_error\n",
    "from sklearn.metrics import mean_absolute_error"
   ]
  },
  {
   "cell_type": "markdown",
   "metadata": {
    "id": "N0MQ-O_1gU10"
   },
   "source": [
    "# 01 - Problem (Case Study)\n",
    "* Data Description.\n",
    "* Goal."
   ]
  },
  {
   "cell_type": "code",
   "execution_count": 43,
   "metadata": {
    "id": "SroYgQGwheyh"
   },
   "outputs": [],
   "source": [
    "#We try to predict a player's \"Overall Rating\" by analysing data from fifa21_train.csv"
   ]
  },
  {
   "cell_type": "markdown",
   "metadata": {
    "id": "StAGLBbUgkV9"
   },
   "source": [
    "# 02 - Getting the data"
   ]
  },
  {
   "cell_type": "code",
   "execution_count": 44,
   "metadata": {
    "id": "07vC0puChfpV"
   },
   "outputs": [],
   "source": [
    "data=pd.read_csv('fifa21_train.csv')"
   ]
  },
  {
   "cell_type": "markdown",
   "metadata": {
    "id": "UBf4l9qVgxsE"
   },
   "source": [
    "# 03 - Cleaning/Wrangling/EDA\n",
    "* Change headers names.\n",
    "* Deal with NaN values.\n",
    "* Categorical Features.\n",
    "* Numerical Features.\n",
    "* Exploration."
   ]
  },
  {
   "cell_type": "code",
   "execution_count": 45,
   "metadata": {
    "id": "qTftcQHFhhhf"
   },
   "outputs": [],
   "source": [
    "# (Dana) we drop: identity data (nationality, names, club, position, Height, Weight, Foot, team & contract, joined, Loan Date End, Wage, Release Clause, Contract..) including ID since this is already indexed\n",
    "# (Dana) Remove Nan rows\n",
    "# (AS) Remove \\ convert money symbols from row 'value'\n",
    "# (AS) Convert columns W/F, SM, IR to a labeled system by deleting the star sign\n",
    "# (Kevin) columns [LS\tST\tRS\tLW\tLF\tCF\tRF\tRW\tLAM\tCAM\tRAM\tLM\tLCM\tCM\tRCM\tRM\tLWB\tLDM\tCDM\tRDM\tRWB\tLB\tLCB\tCB\tRCB\tRB\tGK] sum the numbers within"
   ]
  },
  {
   "cell_type": "code",
   "execution_count": 46,
   "metadata": {
    "colab": {
     "base_uri": "https://localhost:8080/"
    },
    "id": "KgeKbzRjmMWn",
    "outputId": "743e5c1c-c841-47c0-8144-518b1dda82ca"
   },
   "outputs": [
    {
     "name": "stdout",
     "output_type": "stream",
     "text": [
      "(11701, 101)\n",
      "(11422, 86)\n"
     ]
    }
   ],
   "source": [
    "#Dana\n",
    "print(data.shape)\n",
    "data= data.drop(['ID', 'Nationality', 'Name', 'Club', 'BP', 'Position', 'Height', 'Weight', 'foot', 'Team & Contract', 'Joined', 'Loan Date End', 'Wage', 'Release Clause', 'Contract'],axis=1)\n",
    "data=data.dropna()\n",
    "print(data.shape)\n",
    "#279 rows and 15 columns were dropped"
   ]
  },
  {
   "cell_type": "code",
   "execution_count": 47,
   "metadata": {
    "colab": {
     "base_uri": "https://localhost:8080/"
    },
    "id": "zOdqvO9T-xrd",
    "outputId": "0514276b-6df8-4b4f-9a84-410fb9528fcd"
   },
   "outputs": [
    {
     "name": "stdout",
     "output_type": "stream",
     "text": [
      "Age                   int64\n",
      "Growth                int64\n",
      "Value                object\n",
      "Attacking             int64\n",
      "Crossing              int64\n",
      "Finishing             int64\n",
      "Heading Accuracy      int64\n",
      "Short Passing         int64\n",
      "Volleys             float64\n",
      "Skill                 int64\n",
      "Dribbling             int64\n",
      "Curve               float64\n",
      "FK Accuracy           int64\n",
      "Long Passing          int64\n",
      "Ball Control          int64\n",
      "Movement              int64\n",
      "Acceleration          int64\n",
      "Sprint Speed          int64\n",
      "Agility             float64\n",
      "Reactions             int64\n",
      "Balance             float64\n",
      "Power                 int64\n",
      "Shot Power            int64\n",
      "Jumping             float64\n",
      "Stamina               int64\n",
      "Strength              int64\n",
      "Long Shots            int64\n",
      "Mentality             int64\n",
      "Aggression            int64\n",
      "Interceptions       float64\n",
      "Positioning         float64\n",
      "Vision              float64\n",
      "Penalties             int64\n",
      "Composure           float64\n",
      "Defending             int64\n",
      "Marking               int64\n",
      "Standing Tackle       int64\n",
      "Sliding Tackle      float64\n",
      "Goalkeeping           int64\n",
      "GK Diving             int64\n",
      "GK Handling           int64\n",
      "GK Kicking            int64\n",
      "GK Positioning        int64\n",
      "GK Reflexes           int64\n",
      "Total Stats           int64\n",
      "Base Stats            int64\n",
      "W/F                  object\n",
      "SM                   object\n",
      "A/W                  object\n",
      "D/W                  object\n",
      "IR                   object\n",
      "PAC                   int64\n",
      "SHO                   int64\n",
      "PAS                   int64\n",
      "DRI                   int64\n",
      "DEF                   int64\n",
      "PHY                   int64\n",
      "Hits                float64\n",
      "LS                   object\n",
      "ST                   object\n",
      "RS                   object\n",
      "LW                   object\n",
      "LF                   object\n",
      "CF                   object\n",
      "RF                   object\n",
      "RW                   object\n",
      "LAM                  object\n",
      "CAM                  object\n",
      "RAM                  object\n",
      "LM                   object\n",
      "LCM                  object\n",
      "CM                   object\n",
      "RCM                  object\n",
      "RM                   object\n",
      "LWB                  object\n",
      "LDM                  object\n",
      "CDM                  object\n",
      "RDM                  object\n",
      "RWB                  object\n",
      "LB                   object\n",
      "LCB                  object\n",
      "CB                   object\n",
      "RCB                  object\n",
      "RB                   object\n",
      "GK                   object\n",
      "OVA                   int64\n",
      "dtype: object\n",
      "(11380, 86)\n"
     ]
    }
   ],
   "source": [
    "#Dana\n",
    "data['Hits'] = pd.to_numeric(data['Hits'], errors='coerce')\n",
    "data.dropna(subset=['Hits'], inplace=True)\n",
    "pd.set_option('display.max_rows', 200)\n",
    "print(data.dtypes)\n",
    "print(data.shape)"
   ]
  },
  {
   "cell_type": "code",
   "execution_count": 48,
   "metadata": {
    "id": "n21FBWf4qeNh"
   },
   "outputs": [],
   "source": [
    "#AnneSo\n",
    "# Remove \\ convert money symbols from row 'value'\n",
    "def convert_currency(value):\n",
    "    multiplier = 1\n",
    "    if 'M' in value:\n",
    "        multiplier = 1e6  # 1 million\n",
    "    elif 'K' in value:\n",
    "        multiplier = 1e3  # 1 thousand\n",
    "#remove money symbol and letters\n",
    "    return float(value.replace('€', '').replace('M', '').replace('K', '')) * multiplier\n",
    "\n",
    "# Apply the custom function to the 'Value' column\n",
    "data['Value'] = data['Value'].map(convert_currency)\n",
    "#FYI The map function is similar to apply but is particularly useful when you want to apply a function element-wise to a Series."
   ]
  },
  {
   "cell_type": "code",
   "execution_count": 49,
   "metadata": {
    "id": "vfyvlvh1w4Qx"
   },
   "outputs": [],
   "source": [
    "#AnneSo\n",
    "# Convert columns W/F, SM, IR to a labeled system by deleting the star sign\n",
    "star_column = ['W/F', 'SM', 'IR']\n",
    "for column in star_column:\n",
    "    data[column] = data[column].str.replace('★', '')\n",
    "data[star_column] = data[star_column].apply(pd.to_numeric)"
   ]
  },
  {
   "cell_type": "code",
   "execution_count": 50,
   "metadata": {
    "id": "OD54BhgQqeqG"
   },
   "outputs": [],
   "source": [
    "#Kevin\n",
    "data.loc[:, 'LS':'GK'] = data.loc[:, 'LS':'GK'].astype(str)\n",
    "for cols in data.loc[:, 'LS':'GK'].columns:\n",
    "    data[cols] = data[cols].apply(eval)\n",
    "# display(data.loc[:, 'LS':'GK'])"
   ]
  },
  {
   "cell_type": "code",
   "execution_count": 51,
   "metadata": {
    "id": "Y0x-qGve13fG"
   },
   "outputs": [
    {
     "name": "stdout",
     "output_type": "stream",
     "text": [
      "Age                 0\n",
      "Growth              0\n",
      "Value               0\n",
      "Attacking           0\n",
      "Crossing            0\n",
      "Finishing           0\n",
      "Heading Accuracy    0\n",
      "Short Passing       0\n",
      "Volleys             0\n",
      "Skill               0\n",
      "Dribbling           0\n",
      "Curve               0\n",
      "FK Accuracy         0\n",
      "Long Passing        0\n",
      "Ball Control        0\n",
      "Movement            0\n",
      "Acceleration        0\n",
      "Sprint Speed        0\n",
      "Agility             0\n",
      "Reactions           0\n",
      "Balance             0\n",
      "Power               0\n",
      "Shot Power          0\n",
      "Jumping             0\n",
      "Stamina             0\n",
      "Strength            0\n",
      "Long Shots          0\n",
      "Mentality           0\n",
      "Aggression          0\n",
      "Interceptions       0\n",
      "Positioning         0\n",
      "Vision              0\n",
      "Penalties           0\n",
      "Composure           0\n",
      "Defending           0\n",
      "Marking             0\n",
      "Standing Tackle     0\n",
      "Sliding Tackle      0\n",
      "Goalkeeping         0\n",
      "GK Diving           0\n",
      "GK Handling         0\n",
      "GK Kicking          0\n",
      "GK Positioning      0\n",
      "GK Reflexes         0\n",
      "Total Stats         0\n",
      "Base Stats          0\n",
      "W/F                 0\n",
      "SM                  0\n",
      "A/W                 0\n",
      "D/W                 0\n",
      "IR                  0\n",
      "PAC                 0\n",
      "SHO                 0\n",
      "PAS                 0\n",
      "DRI                 0\n",
      "DEF                 0\n",
      "PHY                 0\n",
      "Hits                0\n",
      "LS                  0\n",
      "ST                  0\n",
      "RS                  0\n",
      "LW                  0\n",
      "LF                  0\n",
      "CF                  0\n",
      "RF                  0\n",
      "RW                  0\n",
      "LAM                 0\n",
      "CAM                 0\n",
      "RAM                 0\n",
      "LM                  0\n",
      "LCM                 0\n",
      "CM                  0\n",
      "RCM                 0\n",
      "RM                  0\n",
      "LWB                 0\n",
      "LDM                 0\n",
      "CDM                 0\n",
      "RDM                 0\n",
      "RWB                 0\n",
      "LB                  0\n",
      "LCB                 0\n",
      "CB                  0\n",
      "RCB                 0\n",
      "RB                  0\n",
      "GK                  0\n",
      "OVA                 0\n",
      "dtype: int64\n"
     ]
    }
   ],
   "source": [
    "pd.set_option('display.max_rows', 200)\n",
    "print(data.isnull().sum())"
   ]
  },
  {
   "cell_type": "markdown",
   "metadata": {
    "id": "gr2PvzUTg9C7"
   },
   "source": [
    "# 04 - Processing Data\n",
    "* Dealing with outliers.\n",
    "* Normalization.\n",
    "* Encoding Categorical Data.\n",
    "* Splitting into train set and test set."
   ]
  },
  {
   "cell_type": "code",
   "execution_count": 52,
   "metadata": {
    "id": "ugCnTe9Mhibf"
   },
   "outputs": [],
   "source": [
    "# we skip the outliers for now because there's too much data\n",
    "# (Kevin) Convert columns A/W, D/W to a labled system - low,medium,high >> 1,2,3\n",
    "# (Dana)normalizing the data\n",
    "# (AS)Splitting into X_train and y_train"
   ]
  },
  {
   "cell_type": "code",
   "execution_count": 53,
   "metadata": {
    "colab": {
     "base_uri": "https://localhost:8080/"
    },
    "id": "bYTiHKad0fCu",
    "outputId": "cb6e748d-05c0-4573-ff35-13da842d0a3e"
   },
   "outputs": [],
   "source": [
    "#convert 'Low', 'Medium', 'High' to 1,2,3\n",
    "conv_mapper = {'Low':1,'Medium':2,'High':3}\n",
    "data.loc[:, ['A/W', 'D/W']] = data.loc[:, ['A/W', 'D/W']].replace(conv_mapper)\n",
    "# display(data.loc[:,['A/W', 'D/W']])"
   ]
  },
  {
   "cell_type": "code",
   "execution_count": 54,
   "metadata": {},
   "outputs": [
    {
     "data": {
      "text/plain": [
       "'OVA'"
      ]
     },
     "execution_count": 54,
     "metadata": {},
     "output_type": "execute_result"
    }
   ],
   "source": [
    "correlations_matrix = data.corr()\n",
    "# display(correlations_matrix['OVA'])\n",
    "\n",
    "corr_ova = correlations_matrix.loc['OVA']\n",
    "corr_ova = corr_ova[corr_ova > 0.55]\n",
    "corr_ova = corr_ova.index\n",
    "corr_ova = corr_ova.tolist()\n",
    "corr_ova.pop()"
   ]
  },
  {
   "cell_type": "code",
   "execution_count": 55,
   "metadata": {
    "id": "BmKyOz7L5xEh"
   },
   "outputs": [],
   "source": [
    "#Normalizing\n",
    "\n",
    "\n",
    "y = data['OVA']\n",
    "# X = data.loc[:, corr_ova]\n",
    "X = data.drop(['OVA'], axis=1)\n",
    "# X = data.drop(['OVA', 'Total Stats', 'Base Stats'], axis=1)\n",
    "\n",
    "# X1 = data.loc[:, \"Total Stats\": \"Base Stats\"]\n",
    "# X2 = data.loc[:, 'LS':'GK']\n",
    "# X = pd.concat([X1,X2], axis=1)\n",
    "\n",
    "# X = data.loc[:, [\"Total Stats\"]]"
   ]
  },
  {
   "cell_type": "code",
   "execution_count": 56,
   "metadata": {},
   "outputs": [],
   "source": [
    "#Selecting\n",
    "# from sklearn.feature_selection import SelectKBest, f_regression\n",
    "\n",
    "# selector = SelectKBest(score_func=f_regression, k=20)\n",
    "\n",
    "# selector.fit(X,y)\n",
    "\n",
    "# selected_features = X.columns[selector.get_support()]\n",
    "\n",
    "# X = X[selected_features]\n"
   ]
  },
  {
   "cell_type": "code",
   "execution_count": null,
   "metadata": {},
   "outputs": [],
   "source": []
  },
  {
   "cell_type": "code",
   "execution_count": 57,
   "metadata": {
    "colab": {
     "base_uri": "https://localhost:8080/"
    },
    "id": "yteyHwkd7bMA",
    "outputId": "c25f9e85-33e1-4110-90b6-528d1d506015"
   },
   "outputs": [
    {
     "name": "stdout",
     "output_type": "stream",
     "text": [
      "(11380, 85)\n"
     ]
    }
   ],
   "source": [
    "#Scaling\n",
    "from sklearn.preprocessing import MinMaxScaler\n",
    "\n",
    "transformer = MinMaxScaler().fit(X)\n",
    "\n",
    "x_normalized = transformer.transform(X)\n",
    "print(x_normalized.shape)\n",
    "x_normalized\n",
    "X = pd.DataFrame(x_normalized, columns=X.columns)"
   ]
  },
  {
   "cell_type": "code",
   "execution_count": 58,
   "metadata": {
    "colab": {
     "base_uri": "https://localhost:8080/",
     "height": 74
    },
    "id": "_bZMxxFt558P",
    "outputId": "7fe35600-9f83-4b1a-ed51-3116c6fc06dd"
   },
   "outputs": [
    {
     "data": {
      "text/html": [
       "<style>#sk-container-id-2 {color: black;}#sk-container-id-2 pre{padding: 0;}#sk-container-id-2 div.sk-toggleable {background-color: white;}#sk-container-id-2 label.sk-toggleable__label {cursor: pointer;display: block;width: 100%;margin-bottom: 0;padding: 0.3em;box-sizing: border-box;text-align: center;}#sk-container-id-2 label.sk-toggleable__label-arrow:before {content: \"▸\";float: left;margin-right: 0.25em;color: #696969;}#sk-container-id-2 label.sk-toggleable__label-arrow:hover:before {color: black;}#sk-container-id-2 div.sk-estimator:hover label.sk-toggleable__label-arrow:before {color: black;}#sk-container-id-2 div.sk-toggleable__content {max-height: 0;max-width: 0;overflow: hidden;text-align: left;background-color: #f0f8ff;}#sk-container-id-2 div.sk-toggleable__content pre {margin: 0.2em;color: black;border-radius: 0.25em;background-color: #f0f8ff;}#sk-container-id-2 input.sk-toggleable__control:checked~div.sk-toggleable__content {max-height: 200px;max-width: 100%;overflow: auto;}#sk-container-id-2 input.sk-toggleable__control:checked~label.sk-toggleable__label-arrow:before {content: \"▾\";}#sk-container-id-2 div.sk-estimator input.sk-toggleable__control:checked~label.sk-toggleable__label {background-color: #d4ebff;}#sk-container-id-2 div.sk-label input.sk-toggleable__control:checked~label.sk-toggleable__label {background-color: #d4ebff;}#sk-container-id-2 input.sk-hidden--visually {border: 0;clip: rect(1px 1px 1px 1px);clip: rect(1px, 1px, 1px, 1px);height: 1px;margin: -1px;overflow: hidden;padding: 0;position: absolute;width: 1px;}#sk-container-id-2 div.sk-estimator {font-family: monospace;background-color: #f0f8ff;border: 1px dotted black;border-radius: 0.25em;box-sizing: border-box;margin-bottom: 0.5em;}#sk-container-id-2 div.sk-estimator:hover {background-color: #d4ebff;}#sk-container-id-2 div.sk-parallel-item::after {content: \"\";width: 100%;border-bottom: 1px solid gray;flex-grow: 1;}#sk-container-id-2 div.sk-label:hover label.sk-toggleable__label {background-color: #d4ebff;}#sk-container-id-2 div.sk-serial::before {content: \"\";position: absolute;border-left: 1px solid gray;box-sizing: border-box;top: 0;bottom: 0;left: 50%;z-index: 0;}#sk-container-id-2 div.sk-serial {display: flex;flex-direction: column;align-items: center;background-color: white;padding-right: 0.2em;padding-left: 0.2em;position: relative;}#sk-container-id-2 div.sk-item {position: relative;z-index: 1;}#sk-container-id-2 div.sk-parallel {display: flex;align-items: stretch;justify-content: center;background-color: white;position: relative;}#sk-container-id-2 div.sk-item::before, #sk-container-id-2 div.sk-parallel-item::before {content: \"\";position: absolute;border-left: 1px solid gray;box-sizing: border-box;top: 0;bottom: 0;left: 50%;z-index: -1;}#sk-container-id-2 div.sk-parallel-item {display: flex;flex-direction: column;z-index: 1;position: relative;background-color: white;}#sk-container-id-2 div.sk-parallel-item:first-child::after {align-self: flex-end;width: 50%;}#sk-container-id-2 div.sk-parallel-item:last-child::after {align-self: flex-start;width: 50%;}#sk-container-id-2 div.sk-parallel-item:only-child::after {width: 0;}#sk-container-id-2 div.sk-dashed-wrapped {border: 1px dashed gray;margin: 0 0.4em 0.5em 0.4em;box-sizing: border-box;padding-bottom: 0.4em;background-color: white;}#sk-container-id-2 div.sk-label label {font-family: monospace;font-weight: bold;display: inline-block;line-height: 1.2em;}#sk-container-id-2 div.sk-label-container {text-align: center;}#sk-container-id-2 div.sk-container {/* jupyter's `normalize.less` sets `[hidden] { display: none; }` but bootstrap.min.css set `[hidden] { display: none !important; }` so we also need the `!important` here to be able to override the default hidden behavior on the sphinx rendered scikit-learn.org. See: https://github.com/scikit-learn/scikit-learn/issues/21755 */display: inline-block !important;position: relative;}#sk-container-id-2 div.sk-text-repr-fallback {display: none;}</style><div id=\"sk-container-id-2\" class=\"sk-top-container\"><div class=\"sk-text-repr-fallback\"><pre>LinearRegression()</pre><b>In a Jupyter environment, please rerun this cell to show the HTML representation or trust the notebook. <br />On GitHub, the HTML representation is unable to render, please try loading this page with nbviewer.org.</b></div><div class=\"sk-container\" hidden><div class=\"sk-item\"><div class=\"sk-estimator sk-toggleable\"><input class=\"sk-toggleable__control sk-hidden--visually\" id=\"sk-estimator-id-2\" type=\"checkbox\" checked><label for=\"sk-estimator-id-2\" class=\"sk-toggleable__label sk-toggleable__label-arrow\">LinearRegression</label><div class=\"sk-toggleable__content\"><pre>LinearRegression()</pre></div></div></div></div></div>"
      ],
      "text/plain": [
       "LinearRegression()"
      ]
     },
     "execution_count": 58,
     "metadata": {},
     "output_type": "execute_result"
    }
   ],
   "source": [
    "#Splitting into train set and test set.\n",
    "from sklearn.model_selection import train_test_split\n",
    "X_train, X_test, y_train, y_test = train_test_split(X, y, test_size=0.2, random_state=50)#dont know if random_state requires value\n",
    "lm = linear_model.LinearRegression()\n",
    "lm.fit(X_train,y_train)\n"
   ]
  },
  {
   "cell_type": "code",
   "execution_count": null,
   "metadata": {
    "id": "qH2uOK-x97ep"
   },
   "outputs": [],
   "source": []
  },
  {
   "cell_type": "markdown",
   "metadata": {
    "id": "YpybcP3bhDrz"
   },
   "source": [
    "# 05 - Modeling"
   ]
  },
  {
   "cell_type": "code",
   "execution_count": 59,
   "metadata": {
    "id": "sfGSiLbGhjit"
   },
   "outputs": [],
   "source": [
    "#apply model\n",
    "# corr_data = pd.concat([X,y],axis=1)\n",
    "# # #heatmap\n",
    "# correlations_matrix = corr_data.corr()\n",
    "# display(correlations_matrix['OVA'])\n",
    "# sns.heatmap(correlations_matrix, annot=True)\n",
    "# plt.show()"
   ]
  },
  {
   "cell_type": "markdown",
   "metadata": {
    "id": "1nBZrRgDhHgc"
   },
   "source": [
    "# 06 - Model Validation\n",
    "* R2.\n",
    "* MSE.\n",
    "* RMSE.\n",
    "* MAE."
   ]
  },
  {
   "cell_type": "code",
   "execution_count": 60,
   "metadata": {
    "colab": {
     "base_uri": "https://localhost:8080/"
    },
    "id": "WBwXSuBkhkNx",
    "outputId": "69e8ac5b-7adf-47e7-f15b-93811c10f372"
   },
   "outputs": [
    {
     "name": "stdout",
     "output_type": "stream",
     "text": [
      "R2 score: 0.9126685725787749\n",
      "MSE: 3.969092057170003\n",
      "RMSE: 1.9922580297667274\n",
      "MAE: 1.5428031827527735\n"
     ]
    }
   ],
   "source": [
    "# Validation and Scoring\n",
    "predict_result = lm.predict(X_test)\n",
    "\n",
    "r2 = r2_score(y_test, predict_result)\n",
    "mse = mean_squared_error(y_test, predict_result)\n",
    "rmse = np.sqrt(mse)\n",
    "mae = mean_absolute_error(y_test, predict_result)\n",
    "\n",
    "print('R2 score:', r2)\n",
    "print('MSE:', mse)\n",
    "print('RMSE:', rmse)\n",
    "print('MAE:', mae)"
   ]
  },
  {
   "cell_type": "code",
   "execution_count": 61,
   "metadata": {
    "id": "FA7hJGAPCKEQ"
   },
   "outputs": [],
   "source": [
    "# we can try to validate the score based on a different dataset by dropping more columns and reruning the model"
   ]
  },
  {
   "cell_type": "markdown",
   "metadata": {
    "id": "B384ZNoPhOyl"
   },
   "source": [
    "# 07 - Reporting\n",
    "* Present results."
   ]
  },
  {
   "cell_type": "code",
   "execution_count": 62,
   "metadata": {
    "id": "o1G0i0czeE00"
   },
   "outputs": [],
   "source": [
    "#we decided to ignore outliers.\n",
    "#removing the scaling doesn't change the Model result\n",
    "#R2 has a suprisingly high score. The Average Score Value OVA is directly derived from our dataset\n",
    "#We could improve the model removing some variables"
   ]
  },
  {
   "cell_type": "code",
   "execution_count": null,
   "metadata": {
    "id": "lgC3rY_kCH2k"
   },
   "outputs": [],
   "source": []
  },
  {
   "cell_type": "markdown",
   "metadata": {},
   "source": [
    "# 08 - Validation Data"
   ]
  },
  {
   "cell_type": "code",
   "execution_count": 63,
   "metadata": {},
   "outputs": [],
   "source": [
    "import pandas as pd\n",
    "import numpy as np\n",
    "import matplotlib.pyplot as plt\n",
    "import seaborn as sns\n",
    "import math\n",
    "from sklearn import linear_model\n",
    "from sklearn.metrics import r2_score\n",
    "from sklearn.metrics import mean_squared_error\n",
    "from sklearn.metrics import mean_absolute_error\n",
    "#read\n",
    "datav=pd.read_csv('fifa21_validate.csv')"
   ]
  },
  {
   "cell_type": "code",
   "execution_count": null,
   "metadata": {},
   "outputs": [],
   "source": []
  },
  {
   "cell_type": "code",
   "execution_count": 64,
   "metadata": {},
   "outputs": [],
   "source": [
    "def convert_currency(value):\n",
    "    multiplier = 1\n",
    "    if 'M' in value:\n",
    "        multiplier = 1e6  # 1 million\n",
    "    elif 'K' in value:\n",
    "        multiplier = 1e3  # 1 thousand\n",
    "#remove money symbol and letters\n",
    "    return float(value.replace('€', '').replace('M', '').replace('K', '')) * multiplier"
   ]
  },
  {
   "cell_type": "code",
   "execution_count": 65,
   "metadata": {},
   "outputs": [],
   "source": [
    "#clean datav\n",
    "def clean_datav(datav):\n",
    "    datav = datav.drop(['ID', 'Nationality', 'Name', 'Club', 'BP', 'Position', 'Height', 'Weight', 'foot', 'Team & Contract', 'Joined', 'Loan Date End', 'Wage', 'Release Clause', 'Contract'],axis=1)\n",
    "    datav.dropna(inplace=True) #cleans unesseary column and drop missing values\n",
    "\n",
    "    datav['Hits'] = pd.to_numeric(datav['Hits'], errors='coerce')\n",
    "    datav.dropna(subset=['Hits'], inplace=True) #cleans Hits column by dropping rows with non-num values\n",
    "\n",
    "    datav['Value'] = datav['Value'].map(convert_currency) #convert currency records to actural numeric values\n",
    "\n",
    "    star_column = ['W/F', 'SM', 'IR']\n",
    "    for column in star_column:\n",
    "        datav[column] = datav[column].str.replace('★', '')\n",
    "    datav[star_column] = datav[star_column].apply(pd.to_numeric) #removes stars and changing star attribute to num\n",
    "\n",
    "    datav.loc[:, 'LS':'GK'] = datav.loc[:, 'LS':'GK'].astype(str)\n",
    "    for cols in datav.loc[:, 'LS':'GK'].columns:\n",
    "        datav[cols] = datav[cols].apply(eval) #evaluates columns with calculation formula\n",
    "\n",
    "    conv_mapper = {'Low':1,'Medium':2,'High':3}\n",
    "    datav.loc[:, ['A/W', 'D/W']] = datav.loc[:, ['A/W', 'D/W']].replace(conv_mapper) #converts L/M/H to 1/2/3\n",
    "    return datav\n",
    "\n",
    "datav=clean_datav(datav)"
   ]
  },
  {
   "cell_type": "code",
   "execution_count": 66,
   "metadata": {},
   "outputs": [],
   "source": [
    "#selects yv Xv\n",
    "yv = datav['OVA']\n",
    "Xv = datav.drop(['OVA'], axis=1)"
   ]
  },
  {
   "cell_type": "code",
   "execution_count": 67,
   "metadata": {},
   "outputs": [],
   "source": [
    "#normalize\n",
    "Xv_normalized = transformer.transform(Xv)\n",
    "Xv = pd.DataFrame(Xv_normalized, columns=Xv.columns)"
   ]
  },
  {
   "cell_type": "code",
   "execution_count": 68,
   "metadata": {},
   "outputs": [
    {
     "name": "stdout",
     "output_type": "stream",
     "text": [
      "R2 score: 0.9120263290107803\n",
      "MSE: 3.9378124038736844\n",
      "RMSE: 1.9922580297667274\n",
      "MAE: 1.5539758426626933\n"
     ]
    }
   ],
   "source": [
    "#predict and score\n",
    "vali_predict = lm.predict(Xv)\n",
    "\n",
    "r2v = r2_score(yv, vali_predict)\n",
    "msev = mean_squared_error(yv, vali_predict)\n",
    "rmsev = np.sqrt(mse)\n",
    "maev = mean_absolute_error(yv, vali_predict)\n",
    "\n",
    "print('R2 score:', r2v)\n",
    "print('MSE:', msev)\n",
    "print('RMSE:', rmsev)\n",
    "print('MAE:', maev)"
   ]
  }
 ],
 "metadata": {
  "colab": {
   "provenance": []
  },
  "kernelspec": {
   "display_name": "Python 3 (ipykernel)",
   "language": "python",
   "name": "python3"
  },
  "language_info": {
   "codemirror_mode": {
    "name": "ipython",
    "version": 3
   },
   "file_extension": ".py",
   "mimetype": "text/x-python",
   "name": "python",
   "nbconvert_exporter": "python",
   "pygments_lexer": "ipython3",
   "version": "3.11.5"
  }
 },
 "nbformat": 4,
 "nbformat_minor": 1
}
